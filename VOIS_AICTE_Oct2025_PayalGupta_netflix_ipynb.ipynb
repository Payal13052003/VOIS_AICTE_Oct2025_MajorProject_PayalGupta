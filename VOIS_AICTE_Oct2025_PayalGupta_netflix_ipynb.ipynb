{
  "nbformat": 4,
  "nbformat_minor": 0,
  "metadata": {
    "colab": {
      "provenance": []
    },
    "kernelspec": {
      "name": "python3",
      "display_name": "Python 3"
    },
    "language_info": {
      "name": "python"
    }
  },
  "cells": [
    {
      "cell_type": "code",
      "execution_count": 9,
      "metadata": {
        "id": "y5TxYnCLBelU"
      },
      "outputs": [],
      "source": [
        "import pandas as pd\n",
        "import matplotlib.pyplot as plt\n",
        "import seaborn as sns\n",
        "import numpy as np\n",
        "\n",
        "# Set a professional plot style\n",
        "sns.set_style(\"whitegrid\")\n",
        "\n",
        "# --- 1. Data Loading and Preprocessing ---\n",
        "# FIX 1: Load the dataset using only the filename to avoid FileNotFoundError\n",
        "df = pd.read_csv(\"Netflix Dataset.csv\")\n",
        "\n",
        "# FIX 2: Strip whitespace and specify date format to handle inconsistent date strings.\n",
        "df['Release_Date'] = pd.to_datetime(df['Release_Date'].str.strip(), format=\"%B %d, %Y\", errors='coerce')\n",
        "df['Release_Year'] = df['Release_Date'].dt.year.astype('Int64')\n",
        "\n",
        "# Drop rows where Release_Year is missing\n",
        "df.dropna(subset=['Release_Year'], inplace=True)\n",
        "\n",
        "# For 'Country' analysis, we'll only consider the first listed country\n",
        "df['Country_Main'] = df['Country'].str.split(',').str[0].str.strip()\n",
        "\n",
        "\n",
        "# --- 2. Objective 1: Movies vs. TV Shows Distribution Over Years ---\n",
        "content_over_time = df.groupby(['Release_Year', 'Category']).size().unstack(fill_value=0)\n",
        "content_over_time = content_over_time.sort_index()\n",
        "\n",
        "plt.figure(figsize=(12, 6))\n",
        "content_over_time[['Movie', 'TV Show']].plot(kind='area', stacked=True, ax=plt.gca(),\n",
        "                                            color=['#e50914', '#221f1f'])\n",
        "plt.title('Netflix Content Production Trends: Movies vs. TV Shows by Release Year', fontsize=16)\n",
        "plt.xlabel('Release Year', fontsize=12)\n",
        "plt.ylabel('Number of Titles Added', fontsize=12)\n",
        "plt.legend(title='Category', loc='upper left')\n",
        "plt.tight_layout()\n",
        "plt.savefig('netflix_content_trends_by_year.png')\n",
        "plt.close()\n",
        "\n",
        "\n",
        "# --- 3. Objective 2: Top 10 Most Common Genres ---\n",
        "df_genres = df.assign(Genre = df['Type'].str.split(', ')).explode('Genre')\n",
        "df_genres['Genre'] = df_genres['Genre'].str.strip()\n",
        "top_genres = df_genres['Genre'].value_counts().nlargest(10)\n",
        "\n",
        "plt.figure(figsize=(12, 6))\n",
        "# FIX 3: Added hue and legend=False to resolve FutureWarning\n",
        "sns.barplot(x=top_genres.index, y=top_genres.values, hue=top_genres.index, palette='viridis', legend=False)\n",
        "plt.title('Top 10 Most Common Genres on Netflix', fontsize=16)\n",
        "plt.xlabel('Genre', fontsize=12)\n",
        "plt.ylabel('Number of Titles', fontsize=12)\n",
        "plt.xticks(rotation=45, ha='right')\n",
        "plt.tight_layout()\n",
        "plt.savefig('netflix_top_10_genres.png')\n",
        "plt.close()\n",
        "\n",
        "\n",
        "# --- 4. Objective 3: Top 10 Country-wise Contributions ---\n",
        "country_contributions = df.dropna(subset=['Country_Main'])\n",
        "top_countries = country_contributions['Country_Main'].value_counts().nlargest(10)\n",
        "\n",
        "plt.figure(figsize=(12, 6))\n",
        "# FIX 4: Added hue and legend=False to resolve FutureWarning\n",
        "sns.barplot(x=top_countries.index, y=top_countries.values, hue=top_countries.index, palette='rocket', legend=False)\n",
        "plt.title('Top 10 Countries Contributing to Netflix Content', fontsize=16)\n",
        "plt.xlabel('Country', fontsize=12)\n",
        "plt.ylabel('Number of Titles', fontsize=12)\n",
        "plt.xticks(rotation=45, ha='right')\n",
        "plt.tight_layout()\n",
        "plt.savefig('netflix_top_10_countries.png')\n",
        "plt.close()"
      ]
    }
  ]
}